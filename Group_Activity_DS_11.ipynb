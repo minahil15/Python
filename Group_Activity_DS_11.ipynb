{
  "nbformat": 4,
  "nbformat_minor": 0,
  "metadata": {
    "colab": {
      "provenance": []
    },
    "kernelspec": {
      "name": "python3",
      "display_name": "Python 3"
    },
    "language_info": {
      "name": "python"
    }
  },
  "cells": [
    {
      "cell_type": "markdown",
      "source": [
        "1. Largest Difference in List"
      ],
      "metadata": {
        "id": "0Dd3reUoPgqb"
      }
    },
    {
      "cell_type": "code",
      "source": [
        "ls = [1, 2, 90, 10, 110]\n",
        "\n",
        "max = 0\n",
        "for i in range(len(ls)-1):\n",
        "  for j in range(i+1,len(ls)):\n",
        "    diff = ls[j] - ls[i]\n",
        "    if max < diff:\n",
        "      max = diff\n",
        "\n",
        "print(max)"
      ],
      "metadata": {
        "id": "YxWuP3yUPoBH",
        "colab": {
          "base_uri": "https://localhost:8080/"
        },
        "outputId": "c7ab152e-b400-413d-ae13-a7a67cd2836e"
      },
      "execution_count": 42,
      "outputs": [
        {
          "output_type": "stream",
          "name": "stdout",
          "text": [
            "109\n"
          ]
        }
      ]
    },
    {
      "cell_type": "markdown",
      "source": [
        "2. First Non-Repeating Character"
      ],
      "metadata": {
        "id": "TDOqOUiYf-6e"
      }
    },
    {
      "cell_type": "code",
      "source": [
        "str = 'aabbcc'\n",
        "\n",
        "def first_non_repeating_character(str):\n",
        "  first_non_repeating_character_ls = []\n",
        "  for i in range(len(str)):\n",
        "    if str[i] in first_non_repeating_character_ls:\n",
        "      first_non_repeating_character_ls.remove(str[i])\n",
        "    else:\n",
        "      first_non_repeating_character_ls.append(str[i])\n",
        "\n",
        "  if(len(first_non_repeating_character_ls) == 0):\n",
        "    return None\n",
        "  else:\n",
        "    return first_non_repeating_character_ls[0]\n",
        "\n",
        "print(first_non_repeating_character(str))"
      ],
      "metadata": {
        "colab": {
          "base_uri": "https://localhost:8080/"
        },
        "id": "5U67UkxEf_Tf",
        "outputId": "d318c8c3-cdf8-404c-ede2-8e36ac4f309d"
      },
      "execution_count": 49,
      "outputs": [
        {
          "output_type": "stream",
          "name": "stdout",
          "text": [
            "None\n"
          ]
        }
      ]
    },
    {
      "cell_type": "markdown",
      "source": [
        "3. Check If Strings Are Permutations"
      ],
      "metadata": {
        "id": "-jKJRDq1f_3R"
      }
    },
    {
      "cell_type": "code",
      "source": [
        "#Problem #3\n",
        "def permutations(str1, str2):\n",
        "\n",
        "#check the length of strings , If lengths differ, they can't be permutations.\n",
        "    if len(str1) != len(str2):\n",
        "       return False\n",
        "\n",
        "#now check the charcter counts\n",
        "    return sorted (str1) == sorted(str2)\n",
        "\n",
        "print(permutations(\"abc\", \"bca\"))"
      ],
      "metadata": {
        "colab": {
          "base_uri": "https://localhost:8080/"
        },
        "id": "ttNLdO3MgAIX",
        "outputId": "2087f15c-44de-4e1e-9552-5b27fef2d10c"
      },
      "execution_count": 35,
      "outputs": [
        {
          "output_type": "stream",
          "name": "stdout",
          "text": [
            "True\n"
          ]
        }
      ]
    },
    {
      "cell_type": "markdown",
      "source": [
        "4. Find the Second Largest Unique Number"
      ],
      "metadata": {
        "id": "3fIAYmtuQ60l"
      }
    },
    {
      "cell_type": "code",
      "source": [
        "input_list = [4, 5, 6, 6, 7]\n",
        "\n",
        "def get_second_largest_unique_no(ls):\n",
        "  if(len(input_list) == 0 or len(input_list) == 1):\n",
        "    return None\n",
        "\n",
        "  sorted_input_set = set(sorted(input_list))\n",
        "  sorted_ls_of_unique_no = list(sorted_input_set)\n",
        "\n",
        "  if(len(sorted_ls_of_unique_no) == 1):\n",
        "    return None\n",
        "\n",
        "  return sorted_ls_of_unique_no[-2];\n",
        "\n",
        "print(get_second_largest_unique_no(input_list))\n",
        "\n",
        "\n",
        "\n"
      ],
      "metadata": {
        "colab": {
          "base_uri": "https://localhost:8080/"
        },
        "id": "2gyYpESFRBVM",
        "outputId": "b3965b66-5c78-43d2-de18-452f9dbb194a"
      },
      "execution_count": 36,
      "outputs": [
        {
          "output_type": "stream",
          "name": "stdout",
          "text": [
            "6\n"
          ]
        }
      ]
    },
    {
      "cell_type": "markdown",
      "source": [
        "5. Count Distinct Pairs"
      ],
      "metadata": {
        "id": "u1LdZRTdSLIu"
      }
    },
    {
      "cell_type": "code",
      "source": [
        "target_list=[1,2,3,4,3,6]\n",
        "count = 0\n",
        "\n",
        "for x in range(1,6): #here using the range function the first value is not added to itself\n",
        "  if target_list[0]+target_list[x]==6:\n",
        "    count = count+1\n",
        "\n",
        "for x in range(6):\n",
        "  if target_list[1]+target_list[x]==6 and target_list[1] != target_list[x]: #first condition checks sum and second condition ensures distinct sum\n",
        "    count = count+1\n",
        "\n",
        "\n",
        "\n",
        "for x in range(6):\n",
        "  if target_list[2]+target_list[x]==6 and target_list[2] != target_list[x]:  #first condition checks sum and second condition ensures distinct sum\n",
        "    count = count+1\n",
        "\n",
        "\n",
        "for x in range(6):\n",
        "  if target_list[3]+target_list[x]==6 and target_list[3] != target_list[x]:  #first condition checks sum and second condition ensures distinct sum\n",
        "    count = count+1\n",
        "\n",
        "for x in range(6):\n",
        "  if target_list[4]+target_list[x]==6 and target_list[4] != target_list[x]:   #first condition checks sum and second condition ensures distinct sum\n",
        "    count = count+1\n",
        "\n",
        "for x in range(6):\n",
        "  if target_list[5]+target_list[x]==6 and target_list[5] != target_list[x]:  #first condition checks sum and second condition ensures distinct sum\n",
        "    count = count+1\n",
        "\n",
        "print(count)"
      ],
      "metadata": {
        "colab": {
          "base_uri": "https://localhost:8080/"
        },
        "id": "k-NAUThlSMpo",
        "outputId": "503d2efd-9722-42b4-cfb6-451205305aba"
      },
      "execution_count": 24,
      "outputs": [
        {
          "output_type": "stream",
          "name": "stdout",
          "text": [
            "2\n"
          ]
        }
      ]
    },
    {
      "cell_type": "markdown",
      "source": [
        "6. Remove Duplicates from List"
      ],
      "metadata": {
        "id": "UE7FEDheSNFJ"
      }
    },
    {
      "cell_type": "code",
      "source": [
        "list_6=[1,2,2,3,4,5,1]\n",
        "set_6=set(list_6) #converting the list in a set to remove duplicates\n",
        "new_list_6=list(set_6) #converting back to list\n",
        "print(new_list_6)"
      ],
      "metadata": {
        "colab": {
          "base_uri": "https://localhost:8080/"
        },
        "id": "XVe94MbRSQUp",
        "outputId": "664ce6fc-6f46-4200-b738-737729880f55"
      },
      "execution_count": 23,
      "outputs": [
        {
          "output_type": "stream",
          "name": "stdout",
          "text": [
            "[1, 2, 3, 4, 5]\n"
          ]
        }
      ]
    },
    {
      "cell_type": "markdown",
      "source": [
        "13. Find the Student with highest score"
      ],
      "metadata": {
        "id": "KsU7hxQVb83n"
      }
    },
    {
      "cell_type": "code",
      "source": [
        "def highest_scoring_student(scores):\n",
        "    highest_score = -1\n",
        "    top_student = \"\"\n",
        "\n",
        "    for student, score in scores.items():\n",
        "        if score > highest_score:\n",
        "            highest_score = score\n",
        "            top_student = student\n",
        "\n",
        "    return top_student\n",
        "\n",
        "# Example usage:\n",
        "students = {\"Alice\": 85, \"Bob\": 90, \"Charlie\": 92}\n",
        "print(highest_scoring_student(students))  # Output: Charlie\n"
      ],
      "metadata": {
        "colab": {
          "base_uri": "https://localhost:8080/"
        },
        "id": "xbZvavDub_2K",
        "outputId": "ab7166fa-48ae-49bf-dd0b-88df8f07e04f"
      },
      "execution_count": 22,
      "outputs": [
        {
          "output_type": "stream",
          "name": "stdout",
          "text": [
            "Charlie\n"
          ]
        }
      ]
    },
    {
      "cell_type": "markdown",
      "source": [
        "14. Apply Lambda to List"
      ],
      "metadata": {
        "id": "W2R7C_nQcIIi"
      }
    },
    {
      "cell_type": "code",
      "source": [
        "def apply_lambda_to_list(lst, func):\n",
        "    return [func(x) for x in lst]\n",
        "\n",
        "# Example usage:\n",
        "numbers = [1, 2, 3, 4]\n",
        "squared = apply_lambda_to_list(numbers, lambda x: x ** 2)\n",
        "print(squared)  # Output: [1, 4, 9, 16]"
      ],
      "metadata": {
        "colab": {
          "base_uri": "https://localhost:8080/"
        },
        "id": "RkInuKnEcKDF",
        "outputId": "7318a158-f1c1-456d-b355-d997f8184685"
      },
      "execution_count": 21,
      "outputs": [
        {
          "output_type": "stream",
          "name": "stdout",
          "text": [
            "[1, 4, 9, 16]\n"
          ]
        }
      ]
    },
    {
      "cell_type": "markdown",
      "source": [
        "15. Sum or Multiply Based on Keyword Argument"
      ],
      "metadata": {
        "id": "sz8zex0tcL4h"
      }
    },
    {
      "cell_type": "code",
      "source": [
        "def compute(*args, **kwargs):\n",
        "    if kwargs.get('operation') == 'multiply':\n",
        "        result = 1\n",
        "        for num in args:\n",
        "            result *= num\n",
        "    else:\n",
        "        result = sum(args)\n",
        "    return result\n",
        "\n",
        "# Example usage:\n",
        "print(compute(1, 2, 3, 4, operation='multiply'))  # Output: 24\n",
        "print(compute(1, 2, 3, 4))"
      ],
      "metadata": {
        "colab": {
          "base_uri": "https://localhost:8080/"
        },
        "id": "urhE18xjcNag",
        "outputId": "4f0fe5da-6c04-4b7f-d646-ac6949ef92ef"
      },
      "execution_count": 20,
      "outputs": [
        {
          "output_type": "stream",
          "name": "stdout",
          "text": [
            "24\n",
            "10\n"
          ]
        }
      ]
    },
    {
      "cell_type": "markdown",
      "source": [
        "10. Frequency of Characters in String"
      ],
      "metadata": {
        "id": "t8J6Kyl8dr2w"
      }
    },
    {
      "cell_type": "code",
      "source": [
        "def most_freq(s):\n",
        "    char_count = {}  # dictionary because it has both key and value\n",
        "    for char in s:\n",
        "        if char in char_count:\n",
        "            char_count[char] += 1\n",
        "        else:\n",
        "            char_count[char] = 1\n",
        "\n",
        "    max_count = 0\n",
        "    result_char = ''\n",
        "\n",
        "\n",
        "    for char in char_count:\n",
        "        count = char_count[char]\n",
        "        if count > max_count or (count == max_count and char < result_char):\n",
        "            max_count = count\n",
        "            result_char = char\n",
        "\n",
        "    return result_char\n",
        "\n",
        "print(most_freq(\"aabbbc\"))"
      ],
      "metadata": {
        "colab": {
          "base_uri": "https://localhost:8080/"
        },
        "id": "SM8lrDMTdtjM",
        "outputId": "4a5863da-c34b-458d-d7f6-e831ff8d85b5"
      },
      "execution_count": 19,
      "outputs": [
        {
          "output_type": "stream",
          "name": "stdout",
          "text": [
            "b\n"
          ]
        }
      ]
    },
    {
      "cell_type": "markdown",
      "source": [
        "11. Print Prime Numbers Less Than N"
      ],
      "metadata": {
        "id": "BvvEByNydu5X"
      }
    },
    {
      "cell_type": "code",
      "source": [
        "def print_primes(n):\n",
        "    for num in range(2, n):\n",
        "        is_prime = True\n",
        "        for i in range(2, num):\n",
        "            if num % i == 0:\n",
        "                is_prime = False\n",
        "                break\n",
        "        if is_prime:\n",
        "            print(num, end=\", \")\n",
        "print_primes(10)"
      ],
      "metadata": {
        "colab": {
          "base_uri": "https://localhost:8080/"
        },
        "id": "Pf-vSzyRdvKy",
        "outputId": "f3d2fdeb-6f0c-4ace-81e2-3f9b257d272c"
      },
      "execution_count": 18,
      "outputs": [
        {
          "output_type": "stream",
          "name": "stdout",
          "text": [
            "2, 3, 5, 7, "
          ]
        }
      ]
    },
    {
      "cell_type": "markdown",
      "source": [
        "12. Sum of Variable-Length Arguments"
      ],
      "metadata": {
        "id": "bGeYd88pdv2Q"
      }
    },
    {
      "cell_type": "code",
      "source": [
        "def sum_num(*args):\n",
        "  return sum(args)\n",
        "print (sum_num(2,3,4))\n"
      ],
      "metadata": {
        "colab": {
          "base_uri": "https://localhost:8080/"
        },
        "id": "R3rB5vordwKz",
        "outputId": "6e8c427d-731f-467f-feb2-3f942b00233f"
      },
      "execution_count": 17,
      "outputs": [
        {
          "output_type": "stream",
          "name": "stdout",
          "text": [
            "9\n"
          ]
        }
      ]
    },
    {
      "cell_type": "markdown",
      "source": [
        "7.  Subsets of a List\n"
      ],
      "metadata": {
        "id": "5kJ3Owi4eyVb"
      }
    },
    {
      "cell_type": "code",
      "source": [
        "input = [1, 2, 3]\n",
        "output = [[]]\n",
        "\n",
        "for num in input:\n",
        "    newSubsets = []\n",
        "    for existingSubset in output:\n",
        "        newSubsets.append(existingSubset + [num])\n",
        "    output.extend(newSubsets)\n",
        "\n",
        "print(output)"
      ],
      "metadata": {
        "colab": {
          "base_uri": "https://localhost:8080/"
        },
        "id": "gxbbeZr4eymT",
        "outputId": "482670bd-4ce5-4e5a-aa31-4be224a231dd"
      },
      "execution_count": 16,
      "outputs": [
        {
          "output_type": "stream",
          "name": "stdout",
          "text": [
            "[[], [1], [2], [1, 2], [3], [1, 3], [2, 3], [1, 2, 3]]\n"
          ]
        }
      ]
    },
    {
      "cell_type": "markdown",
      "source": [
        "8. Longest Increasing Subsequence"
      ],
      "metadata": {
        "id": "rFUciBNkey4e"
      }
    },
    {
      "cell_type": "code",
      "source": [
        "input = [10, 9, 2, 5, 3, 7, 101, 18]\n",
        "longestSubsequence = 0\n",
        "currentSubsequence = 1\n",
        "for i in range(1, len(input)):\n",
        "    if input[i] > input[i-1]:\n",
        "        currentSubsequence += 1\n",
        "    else:\n",
        "        longestSubsequence = max(longestSubsequence, currentSubsequence)\n",
        "        currentSubsequence = 1\n",
        "\n",
        "longestSubsequence = max(longestSubsequence, currentSubsequence)\n",
        "print(longestSubsequence)\n"
      ],
      "metadata": {
        "colab": {
          "base_uri": "https://localhost:8080/"
        },
        "id": "sAwt7zZbezFi",
        "outputId": "0dfda8e5-7c8a-496d-d4b1-c223a83db141"
      },
      "execution_count": 15,
      "outputs": [
        {
          "output_type": "stream",
          "name": "stdout",
          "text": [
            "3\n"
          ]
        }
      ]
    },
    {
      "cell_type": "markdown",
      "source": [
        "9. Maximum Product of Two Numbers"
      ],
      "metadata": {
        "id": "GHHi_cN6ezRi"
      }
    },
    {
      "cell_type": "code",
      "source": [
        "input = [1, 10, -5, 1, 100]\n",
        "maxProduct = float('-inf')\n",
        "for i in range(len(input)):\n",
        "    for j in range(i+1, len(input)):\n",
        "        maxProduct = max(maxProduct, input[i] * input[j])\n",
        "\n",
        "print(maxProduct)"
      ],
      "metadata": {
        "colab": {
          "base_uri": "https://localhost:8080/"
        },
        "id": "EAOmexCfezcQ",
        "outputId": "060d0fcf-5f85-4862-82db-b510b87960c0"
      },
      "execution_count": 14,
      "outputs": [
        {
          "output_type": "stream",
          "name": "stdout",
          "text": [
            "1000\n"
          ]
        }
      ]
    }
  ]
}